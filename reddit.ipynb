{
 "cells": [
  {
   "cell_type": "code",
   "execution_count": 1,
   "id": "37556b17",
   "metadata": {},
   "outputs": [],
   "source": [
    "import praw\n",
    "from psaw import PushshiftAPI\n",
    "import datetime as dt\n",
    "import csv"
   ]
  },
  {
   "cell_type": "code",
   "execution_count": 2,
   "id": "19df549b",
   "metadata": {},
   "outputs": [],
   "source": [
    "# for i in range(10, 32):\n",
    "#     url = f\"https://github.com/thepanacealab/covid19_twitter/blob/master/dailies/2021-08-{i}/2021-08-{i}-dataset.tsv.gz?raw=true\"\n",
    "#     tweet = pd.read_csv(url, compression = 'gzip', delimiter = '\\t')\n",
    "#     tweet = tweet[tweet[\"lang\"] == 'en']\n",
    "#     print(tweet.shape)\n",
    "#     tweet['tweet_id'].to_csv(f\"C:\\\\Users\\chris\\\\Downloads\\\\filtered_tweet_ids\\\\08_{i}.csv\", index = False, header = False)"
   ]
  },
  {
   "cell_type": "code",
   "execution_count": 40,
   "id": "856e7be7",
   "metadata": {},
   "outputs": [],
   "source": [
    "reddit = praw.Reddit(\n",
    "   ## client id stuff\n",
    ")\n",
    "api = PushshiftAPI(reddit)"
   ]
  },
  {
   "cell_type": "code",
   "execution_count": 41,
   "id": "6d3b01fb",
   "metadata": {},
   "outputs": [],
   "source": [
    "start_epoch=int(dt.datetime(2021, 8, 10).timestamp())\n",
    "end_epoch = int(dt.datetime(2021, 9, 1).timestamp())\n",
    "posts = list(api.search_submissions(after=start_epoch,\n",
    "                            before = end_epoch,\n",
    "                            subreddit = \"trueantivaccination\"))"
   ]
  },
  {
   "cell_type": "code",
   "execution_count": 42,
   "id": "82412697",
   "metadata": {},
   "outputs": [],
   "source": [
    "with open(\"C:\\\\Users\\\\chris\\\\Documents\\\\Math168Project\\\\trueantivaccination.csv\", 'a', encoding=\"utf-8\") as file:\n",
    "    headers = ['ID', 'Date_utc', 'Author', 'Body', 'Submission', 'Parent_ID', 'Parent_Author', 'Level']\n",
    "    writer = csv.DictWriter(file, fieldnames = headers, extrasaction='ignore')\n",
    "    writer.writeheader()\n",
    "    for post in posts: #goes through list of posts matching criteria\n",
    "        post.comments.replace_more()\n",
    "        for comment in post.comments: #top level comments \n",
    "            if (not post.author) and (not comment.author):\n",
    "                continue\n",
    "            data = {'ID':comment.id, 'Date_utc':comment.created_utc, 'Author':comment.author, 'Body': comment.body,\n",
    "            'Submission':post.id, 'Parent_ID':post.id, 'Parent_Author':post.author, 'Level':1}\n",
    "            writer.writerow(data)\n",
    "            for reply in comment.replies: #second level comments\n",
    "                if not reply.author: #account deleted/comment deleted/moderator removed\n",
    "                    continue\n",
    "                data = {'ID':reply.id, 'Date_utc':reply.created_utc, 'Author':reply.author, 'Body': reply.body,\n",
    "                        'Submission':post.id, 'Parent_ID':comment.id, 'Parent_Author':comment.author, 'Level':2}\n",
    "                writer.writerow(data)"
   ]
  },
  {
   "cell_type": "code",
   "execution_count": 13,
   "id": "aa5d8d2f",
   "metadata": {},
   "outputs": [],
   "source": [
    "submission = reddit.submission(id = \"pfkfz3\")"
   ]
  },
  {
   "cell_type": "code",
   "execution_count": 43,
   "id": "731e9fc1",
   "metadata": {},
   "outputs": [
    {
     "data": {
      "text/html": [
       "<div>\n",
       "<style scoped>\n",
       "    .dataframe tbody tr th:only-of-type {\n",
       "        vertical-align: middle;\n",
       "    }\n",
       "\n",
       "    .dataframe tbody tr th {\n",
       "        vertical-align: top;\n",
       "    }\n",
       "\n",
       "    .dataframe thead th {\n",
       "        text-align: right;\n",
       "    }\n",
       "</style>\n",
       "<table border=\"1\" class=\"dataframe\">\n",
       "  <thead>\n",
       "    <tr style=\"text-align: right;\">\n",
       "      <th></th>\n",
       "      <th>ID</th>\n",
       "      <th>Date_utc</th>\n",
       "      <th>Author</th>\n",
       "      <th>Body</th>\n",
       "      <th>Submission</th>\n",
       "      <th>Parent_ID</th>\n",
       "      <th>Parent_Author</th>\n",
       "      <th>Level</th>\n",
       "    </tr>\n",
       "  </thead>\n",
       "  <tbody>\n",
       "    <tr>\n",
       "      <th>0</th>\n",
       "      <td>hb5o5xe</td>\n",
       "      <td>1.630477e+09</td>\n",
       "      <td>krusty3x</td>\n",
       "      <td>This alone should put him In the chair.</td>\n",
       "      <td>pfnoiq</td>\n",
       "      <td>pfnoiq</td>\n",
       "      <td>8uwotm8</td>\n",
       "      <td>1</td>\n",
       "    </tr>\n",
       "    <tr>\n",
       "      <th>1</th>\n",
       "      <td>hb5tb0n</td>\n",
       "      <td>1.630481e+09</td>\n",
       "      <td>8uwotm8</td>\n",
       "      <td>nah he and his cumstains evil f4scists should ...</td>\n",
       "      <td>pfnoiq</td>\n",
       "      <td>hb5o5xe</td>\n",
       "      <td>krusty3x</td>\n",
       "      <td>2</td>\n",
       "    </tr>\n",
       "    <tr>\n",
       "      <th>2</th>\n",
       "      <td>hb88isn</td>\n",
       "      <td>1.630526e+09</td>\n",
       "      <td>SerScronzarelli</td>\n",
       "      <td>Grasping for straws aren't you?</td>\n",
       "      <td>pfmh8q</td>\n",
       "      <td>pfmh8q</td>\n",
       "      <td>Revolutionary-Comb35</td>\n",
       "      <td>1</td>\n",
       "    </tr>\n",
       "    <tr>\n",
       "      <th>3</th>\n",
       "      <td>hb9cje6</td>\n",
       "      <td>1.630545e+09</td>\n",
       "      <td>Revolutionary-Comb35</td>\n",
       "      <td>Inquiring minds want to know; \\r\\n\\r\\nwhat IF ...</td>\n",
       "      <td>pfmh8q</td>\n",
       "      <td>hb88isn</td>\n",
       "      <td>SerScronzarelli</td>\n",
       "      <td>2</td>\n",
       "    </tr>\n",
       "    <tr>\n",
       "      <th>4</th>\n",
       "      <td>hdndp6o</td>\n",
       "      <td>1.632178e+09</td>\n",
       "      <td>Revolutionary-Comb35</td>\n",
       "      <td>Have you change your tune about my inquiry now...</td>\n",
       "      <td>pfmh8q</td>\n",
       "      <td>hb88isn</td>\n",
       "      <td>SerScronzarelli</td>\n",
       "      <td>2</td>\n",
       "    </tr>\n",
       "  </tbody>\n",
       "</table>\n",
       "</div>"
      ],
      "text/plain": [
       "        ID      Date_utc                Author  \\\n",
       "0  hb5o5xe  1.630477e+09              krusty3x   \n",
       "1  hb5tb0n  1.630481e+09               8uwotm8   \n",
       "2  hb88isn  1.630526e+09       SerScronzarelli   \n",
       "3  hb9cje6  1.630545e+09  Revolutionary-Comb35   \n",
       "4  hdndp6o  1.632178e+09  Revolutionary-Comb35   \n",
       "\n",
       "                                                Body Submission Parent_ID  \\\n",
       "0            This alone should put him In the chair.     pfnoiq    pfnoiq   \n",
       "1  nah he and his cumstains evil f4scists should ...     pfnoiq   hb5o5xe   \n",
       "2                    Grasping for straws aren't you?     pfmh8q    pfmh8q   \n",
       "3  Inquiring minds want to know; \\r\\n\\r\\nwhat IF ...     pfmh8q   hb88isn   \n",
       "4  Have you change your tune about my inquiry now...     pfmh8q   hb88isn   \n",
       "\n",
       "          Parent_Author  Level  \n",
       "0               8uwotm8      1  \n",
       "1              krusty3x      2  \n",
       "2  Revolutionary-Comb35      1  \n",
       "3       SerScronzarelli      2  \n",
       "4       SerScronzarelli      2  "
      ]
     },
     "execution_count": 43,
     "metadata": {},
     "output_type": "execute_result"
    }
   ],
   "source": [
    "import pandas as pd\n",
    "test = pd.read_csv(\"C:\\\\Users\\\\chris\\\\Documents\\\\Math168Project\\\\trueantivaccination.csv\")\n",
    "test.head()"
   ]
  },
  {
   "cell_type": "code",
   "execution_count": 44,
   "id": "5288c74f",
   "metadata": {},
   "outputs": [
    {
     "data": {
      "text/plain": [
       "(1816, 8)"
      ]
     },
     "execution_count": 44,
     "metadata": {},
     "output_type": "execute_result"
    }
   ],
   "source": [
    "test.shape"
   ]
  },
  {
   "cell_type": "code",
   "execution_count": null,
   "id": "02515bcb",
   "metadata": {},
   "outputs": [],
   "source": []
  }
 ],
 "metadata": {
  "kernelspec": {
   "display_name": "Python 3 (ipykernel)",
   "language": "python",
   "name": "python3"
  },
  "language_info": {
   "codemirror_mode": {
    "name": "ipython",
    "version": 3
   },
   "file_extension": ".py",
   "mimetype": "text/x-python",
   "name": "python",
   "nbconvert_exporter": "python",
   "pygments_lexer": "ipython3",
   "version": "3.9.12"
  }
 },
 "nbformat": 4,
 "nbformat_minor": 5
}
