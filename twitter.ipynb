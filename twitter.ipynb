{
 "cells": [
  {
   "cell_type": "code",
   "execution_count": 21,
   "id": "0b56cf66",
   "metadata": {},
   "outputs": [],
   "source": [
    "import datetime as dt\n",
    "import csv\n",
    "import pandas as pd\n",
    "import networkx as nx"
   ]
  },
  {
   "cell_type": "code",
   "execution_count": 28,
   "id": "823673ad",
   "metadata": {},
   "outputs": [],
   "source": [
    "vaccine_terms = 'shot|vaccine|vacine|vacines|vaccines|vaccinate|vaccination|vaccinations|vaccinated|vaccinating|vaxxed|vaxx|vax|\\\n",
    "unvaccinated|unvaxxed|antivaxx|antivaccination|anti|\\\n",
    "moderna|pfizer|J&J|immune|immunize|immunizes|immunized|immunization|immunizations'\n",
    "vaccine_terms_list= vaccine_terms.split('|')"
   ]
  },
  {
   "cell_type": "code",
   "execution_count": null,
   "id": "a82a7b63",
   "metadata": {},
   "outputs": [],
   "source": [
    "# use your own path for the data\n",
    "data_path = '/content/drive/MyDrive/math168_project/data/08_31.csv'"
   ]
  },
  {
   "cell_type": "code",
   "execution_count": 48,
   "id": "7d9a9169",
   "metadata": {},
   "outputs": [
    {
     "name": "stderr",
     "output_type": "stream",
     "text": [
      "/var/folders/1w/qqx3tnc943383tv49dm69fd00000gn/T/ipykernel_35662/712566613.py:8: DtypeWarning: Columns (0) have mixed types. Specify dtype option on import or set low_memory=False.\n",
      "  df = pd.read_csv(abs_f_name)\n"
     ]
    }
   ],
   "source": [
    "import os\n",
    "import glob\n",
    "  \n",
    "# csv_files = glob.glob(os.path.join(data_path, \"*.csv\"))\n",
    "\n",
    "# read the csv file individually\n",
    "df = pd.read_csv(data_path, dtype=\"str\")\n",
    "      \n",
    "# print the location and filename\n",
    "df = df[['user_id', 'text', 'created_at', 'id', 'in_reply_to_screen_name', 'retweet_screen_name', 'user_screen_name']]\n",
    "    \n",
    "# either a reply or a retweet\n",
    "df = df.dropna(subset=['in_reply_to_screen_name', 'retweet_screen_name'], how='all')\n",
    "df = df[df.text.str.contains(vaccine_terms)]\n",
    "    \n",
    "df['target_user'] = df['in_reply_to_screen_name'].fillna('') + df['retweet_screen_name'].fillna('')\n",
    "    \n",
    "# make graph\n",
    "# G = nx.from_pandas_edgelist(df, 'user_screen_name', 'target_user', create_using=nx.MultiGraph())\n",
    "    \n",
    "# save the updated csv to the same directory - decide on a naming convention for these files\n",
    "# currently it is {original_file_name}_twitter.csv\n",
    "f_name, _ = os.path.splitext(data_path)\n",
    "df.to_csv(f_name+'_twitter.csv', index=False, encoding='utf-8-sig')"
   ]
  }
 ],
 "metadata": {
  "kernelspec": {
   "display_name": "Python 3 (ipykernel)",
   "language": "python",
   "name": "python3"
  },
  "language_info": {
   "codemirror_mode": {
    "name": "ipython",
    "version": 3
   },
   "file_extension": ".py",
   "mimetype": "text/x-python",
   "name": "python",
   "nbconvert_exporter": "python",
   "pygments_lexer": "ipython3",
   "version": "3.8.5"
  }
 },
 "nbformat": 4,
 "nbformat_minor": 5
}
