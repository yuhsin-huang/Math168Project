{
 "cells": [
  {
   "cell_type": "code",
   "execution_count": 1,
   "metadata": {
    "id": "WxlGZPEXMwpK"
   },
   "outputs": [],
   "source": [
    "import datetime as dt\n",
    "import csv\n",
    "import pandas as pd\n",
    "import networkx as nx"
   ]
  },
  {
   "cell_type": "code",
   "execution_count": 2,
   "metadata": {
    "id": "K30uRdTbM7o9"
   },
   "outputs": [],
   "source": [
    "vaccine_terms = 'shot|vaccine|vacine|vacines|vaccines|vaccinate|vaccination|vaccinations|vaccinated|vaccinating|vaxxed|vaxx|vax|\\\n",
    "unvaccinated|unvaxxed|antivaxx|antivaccination|anti|\\\n",
    "moderna|pfizer|J&J|immune|immunize|immunizes|immunized|immunization|immunizations'\n",
    "vaccine_terms_list= vaccine_terms.split('|')"
   ]
  },
  {
   "cell_type": "code",
   "execution_count": 2,
   "metadata": {
    "id": "22CWPDMHM9PU"
   },
   "outputs": [],
   "source": [
    "# data_path = '/content/drive/MyDrive/math168_project/data/08_31.csv'\n",
    "data_path = '/Volumes/GoogleDrive-105418601834042090131/My Drive/math168_project/data/'"
   ]
  },
  {
   "cell_type": "code",
   "execution_count": 56,
   "metadata": {
    "colab": {
     "base_uri": "https://localhost:8080/"
    },
    "id": "jaa1OjvjNCX7",
    "outputId": "54e7e906-7285-499d-864d-990158afff5f"
   },
   "outputs": [
    {
     "name": "stderr",
     "output_type": "stream",
     "text": [
      "/usr/local/lib/python3.7/dist-packages/ipykernel_launcher.py:16: SettingWithCopyWarning: \n",
      "A value is trying to be set on a copy of a slice from a DataFrame.\n",
      "Try using .loc[row_indexer,col_indexer] = value instead\n",
      "\n",
      "See the caveats in the documentation: https://pandas.pydata.org/pandas-docs/stable/user_guide/indexing.html#returning-a-view-versus-a-copy\n",
      "  app.launch_new_instance()\n"
     ]
    }
   ],
   "source": [
    "import os\n",
    "import glob\n",
    "  \n",
    "# csv_files = glob.glob(os.path.join(data_path, \"*.csv\"))\n",
    "\n",
    "# read the csv file individually\n",
    "df = pd.read_csv(data_path, dtype=\"str\")\n",
    "      \n",
    "# print the location and filename\n",
    "df = df[['user_id', 'text', 'created_at', 'id', 'in_reply_to_screen_name', 'retweet_screen_name', 'user_screen_name']]\n",
    "    \n",
    "# either a reply or a retweet\n",
    "df = df.dropna(subset=['in_reply_to_screen_name', 'retweet_screen_name'], how='all')\n",
    "df = df[df.text.str.contains(vaccine_terms)]\n",
    "    \n",
    "df['target_user'] = df['in_reply_to_screen_name'].fillna('') + df['retweet_screen_name'].fillna('')\n",
    "    \n",
    "# make graph\n",
    "# G = nx.from_pandas_edgelist(df, 'user_screen_name', 'target_user', create_using=nx.MultiGraph())\n",
    "    \n",
    "# save the updated csv to the same directory - decide on a naming convention for these files\n",
    "# currently it is {original_file_name}_twitter.csv\n",
    "f_name, _ = os.path.splitext(data_path)\n",
    "df.to_csv(f_name+'_twitter.csv', index=False, encoding='utf-8-sig')\n",
    "\n"
   ]
  },
  {
   "cell_type": "code",
   "execution_count": 61,
   "metadata": {
    "colab": {
     "base_uri": "https://localhost:8080/"
    },
    "id": "a1ocFg6caNH3",
    "outputId": "50777a0a-4b21-4ef9-bbba-c8b2a6eab1bc"
   },
   "outputs": [
    {
     "name": "stderr",
     "output_type": "stream",
     "text": [
      "/usr/local/lib/python3.7/dist-packages/pandas/core/reshape/concat.py:304: DtypeWarning: Columns (0) have mixed types.Specify dtype option on import or set low_memory=False.\n",
      "  sort=sort,\n",
      "/usr/local/lib/python3.7/dist-packages/pandas/core/reshape/concat.py:304: DtypeWarning: Columns (0,3) have mixed types.Specify dtype option on import or set low_memory=False.\n",
      "  sort=sort,\n"
     ]
    }
   ],
   "source": [
    "# merge all updated data together\n",
    "# get all csv_files in the directory\n",
    "data_path2 = '/content/drive/MyDrive/math168_project/data/'\n",
    "csv_files = glob.glob(os.path.join(data_path2, \"*.csv\"))\n",
    "\n",
    "# get all updated dataframes\n",
    "files = []\n",
    "for file in csv_files:\n",
    "  if 'twitter' in file: \n",
    "    files.append(file)\n",
    "\n",
    "# merge\n",
    "completed_df = pd.concat(map(pd.read_csv, files), ignore_index=True)\n",
    "\n",
    "# save the completed csv file to the same directory\n",
    "completed_df.to_csv(data_path2+'completed_twitter_data.csv', index=False, encoding='utf-8-sig')"
   ]
  },
  {
   "cell_type": "code",
   "execution_count": 62,
   "metadata": {
    "colab": {
     "base_uri": "https://localhost:8080/"
    },
    "id": "aGYQqNIvi0F-",
    "outputId": "d9f82213-7891-426e-efc8-6c9cea434fb3"
   },
   "outputs": [
    {
     "data": {
      "text/plain": [
       "2967844"
      ]
     },
     "execution_count": 62,
     "metadata": {},
     "output_type": "execute_result"
    }
   ],
   "source": [
    "len(completed_df)"
   ]
  },
  {
   "cell_type": "markdown",
   "metadata": {},
   "source": [
    "- modularity\n",
    "- number of nodes\n"
   ]
  },
  {
   "cell_type": "markdown",
   "metadata": {},
   "source": [
    "# Louvain Communities"
   ]
  },
  {
   "cell_type": "code",
   "execution_count": 4,
   "metadata": {},
   "outputs": [],
   "source": [
    "from networkx.algorithms.community import louvain_communities\n",
    "import matplotlib.pyplot as plt\n",
    "import numpy as np\n"
   ]
  },
  {
   "cell_type": "markdown",
   "metadata": {},
   "source": [
    "### Preliminary trial on the data of 08/11"
   ]
  },
  {
   "cell_type": "code",
   "execution_count": 5,
   "metadata": {
    "id": "LO9t9S4CoLUb"
   },
   "outputs": [],
   "source": [
    "df = pd.read_csv(data_path + '08_11_twitter.csv', dtype=\"str\")"
   ]
  },
  {
   "cell_type": "code",
   "execution_count": 6,
   "metadata": {},
   "outputs": [],
   "source": [
    "G = nx.from_pandas_edgelist(df, 'user_screen_name', 'target_user')"
   ]
  },
  {
   "cell_type": "code",
   "execution_count": 7,
   "metadata": {},
   "outputs": [],
   "source": [
    "comm = louvain_communities(G, seed=42)"
   ]
  },
  {
   "cell_type": "code",
   "execution_count": 8,
   "metadata": {},
   "outputs": [],
   "source": [
    "largest_comm = sorted(comm, key = len, reverse=True)[0]"
   ]
  },
  {
   "cell_type": "markdown",
   "metadata": {},
   "source": [
    "## Functions for louvain community"
   ]
  },
  {
   "cell_type": "code",
   "execution_count": 9,
   "metadata": {},
   "outputs": [],
   "source": [
    "def find_community(G):\n",
    "    # returns a list of communities, and a filtered list of communities\n",
    "    comm = louvain_communities(G, seed=42)\n",
    "    \n",
    "    # filtering out communities that take up less than 0.01 of the nodes\n",
    "    filtered_comm = [i for i in comm if len(i) > 0.01*len(G.nodes)]\n",
    "    return comm, filtered_comm"
   ]
  },
  {
   "cell_type": "code",
   "execution_count": 12,
   "metadata": {},
   "outputs": [],
   "source": [
    "def daily_louvain_stats(day):\n",
    "    # returns size of largest and smallest community for the given day\n",
    "    # and the mean size of communities\n",
    "    # Note that the communities are filtered to take up at least 0.01 of the nodes\n",
    "    df = pd.read_csv(data_path + f'08_{day}_twitter.csv', dtype=\"str\")\n",
    "    G = nx.from_pandas_edgelist(df, 'user_screen_name', 'target_user')\n",
    "    num = len(G.nodes)\n",
    "    comm, filtered_comm = find_community(G)\n",
    "    lengths = np.array([len(i) for i in filtered_comm])\n",
    "    \n",
    "    return max(lengths), np.mean(lengths), min(lengths), num\n",
    "\n"
   ]
  },
  {
   "cell_type": "code",
   "execution_count": 13,
   "metadata": {},
   "outputs": [
    {
     "data": {
      "text/plain": [
       "(9361, 2959.964285714286, 1332, 121588)"
      ]
     },
     "execution_count": 13,
     "metadata": {},
     "output_type": "execute_result"
    }
   ],
   "source": [
    "daily_louvain_stats(11)"
   ]
  },
  {
   "cell_type": "markdown",
   "metadata": {},
   "source": [
    "### Simple stats (max, min, mean) for the communities for each day"
   ]
  },
  {
   "cell_type": "code",
   "execution_count": 17,
   "metadata": {},
   "outputs": [],
   "source": [
    "days = np.arange(11, 32)"
   ]
  },
  {
   "cell_type": "code",
   "execution_count": 16,
   "metadata": {},
   "outputs": [
    {
     "data": {
      "text/plain": [
       "[<matplotlib.lines.Line2D at 0x136c9f430>]"
      ]
     },
     "execution_count": 16,
     "metadata": {},
     "output_type": "execute_result"
    },
    {
     "data": {
      "image/png": "[encoded data removed]",
      "text/plain": [
       "<Figure size 432x288 with 1 Axes>"
      ]
     },
     "metadata": {
      "needs_background": "light"
     },
     "output_type": "display_data"
    }
   ],
   "source": [
    "# Gather stats from 8/11 to 8/31\n",
    "maxes, mins, means, nums = [],[],[], []\n",
    "for day in days:\n",
    "    ma, mi, me, num = daily_louvain_stats(day)\n",
    "    maxes.append(ma)\n",
    "    mins.append(mi)\n",
    "    means.append(me)\n",
    "    nums.append(num)\n",
    "\n",
    "plt.plot(maxes)\n",
    "plt.plot(mins)\n",
    "plt.plot(means)\n"
   ]
  },
  {
   "cell_type": "code",
   "execution_count": 18,
   "metadata": {},
   "outputs": [
    {
     "data": {
      "text/plain": [
       "Text(0.5, 1.0, 'Users against day')"
      ]
     },
     "execution_count": 18,
     "metadata": {},
     "output_type": "execute_result"
    },
    {
     "data": {
      "image/png": "[encoded data removed]",
      "text/plain": [
       "<Figure size 432x288 with 1 Axes>"
      ]
     },
     "metadata": {
      "needs_background": "light"
     },
     "output_type": "display_data"
    }
   ],
   "source": [
    "# compares the users vs largest community size per day\n",
    "plt.plot(days, nums, label='number of users')\n",
    "plt.plot( days, maxes, label='maximum community size')\n",
    "plt.yscale('log')\n",
    "plt.legend()\n",
    "plt.title('Users against day')"
   ]
  },
  {
   "cell_type": "markdown",
   "metadata": {},
   "source": [
    "#### Using the similarity score from https://ieeexplore.ieee.org/document/6921553 to try and see how the network changes"
   ]
  },
  {
   "cell_type": "code",
   "execution_count": 19,
   "metadata": {},
   "outputs": [
    {
     "name": "stdout",
     "output_type": "stream",
     "text": [
      "11\n",
      "1.0\n",
      "9361\n",
      "-------\n",
      "12\n",
      "0.11900191938579655\n",
      "11462\n",
      "-------\n",
      "13\n",
      "0.15036940460669274\n",
      "6893\n",
      "-------\n",
      "14\n",
      "0.12371432710415761\n",
      "5396\n",
      "-------\n",
      "15\n",
      "0.042300449080110096\n",
      "1664\n",
      "-------\n",
      "16\n",
      "0.05157178038533971\n",
      "1616\n",
      "-------\n",
      "17\n",
      "0.16600844341549775\n",
      "7343\n",
      "-------\n",
      "18\n",
      "0.10488193539040996\n",
      "4165\n",
      "-------\n",
      "19\n",
      "0.12603005332040718\n",
      "8252\n",
      "-------\n",
      "20\n",
      "0.06895552658264523\n",
      "3102\n",
      "-------\n",
      "21\n",
      "0.11705055772852382\n",
      "4815\n",
      "-------\n",
      "22\n",
      "0.11806460959003331\n",
      "4976\n",
      "-------\n",
      "23\n",
      "0.04563233376792699\n",
      "3534\n",
      "-------\n",
      "24\n",
      "0.1350049003593597\n",
      "12244\n",
      "-------\n",
      "25\n",
      "0.14029275808936825\n",
      "12980\n",
      "-------\n",
      "26\n",
      "0.07938577430102854\n",
      "2912\n",
      "-------\n",
      "27\n",
      "0.1577574967405476\n",
      "6545\n",
      "-------\n",
      "28\n",
      "0.14466446644664466\n",
      "7272\n",
      "-------\n",
      "29\n",
      "0.09705924960162249\n",
      "4650\n",
      "-------\n",
      "30\n",
      "0.12849485730841664\n",
      "6732\n",
      "-------\n",
      "31\n",
      "0.12108559498956159\n",
      "9101\n",
      "-------\n"
     ]
    }
   ],
   "source": [
    "# maxsize is an array of the largest communities per day\n",
    "change_maxsize = np.array([])\n",
    "# maxsims is an array of the maximum similarity scores per day\n",
    "change_maxsims = np.array([])\n",
    "for day in days:\n",
    "    print(day)\n",
    "    df_d = pd.read_csv(data_path + f'08_{day}_twitter.csv', dtype=\"str\")\n",
    "    G_d = nx.from_pandas_edgelist(df_d, 'user_screen_name', 'target_user')\n",
    "    comm_d , filtered_comm_d = find_community(G_d)\n",
    "    sims = np.array([])\n",
    "    for c in filtered_comm_d:\n",
    "        sim = len(largest_comm.intersection(c)) / max(len(comm), len(c))\n",
    "        sims = np.append(sims,sim)\n",
    "    max_sim  = np.max(sims)\n",
    "    change_maxsims = np.append(change_maxsims, max_sim)\n",
    "    print(max_sim)\n",
    "\n",
    "    max_size = len(filtered_comm_d[np.argmax(sims)])\n",
    "    change_maxsize = np.append(change_maxsize, max_size)\n",
    "    print(max_size)\n",
    "    print('-------')\n",
    "    "
   ]
  },
  {
   "cell_type": "code",
   "execution_count": 20,
   "metadata": {},
   "outputs": [
    {
     "data": {
      "image/png": "[encoded data removed]",
      "text/plain": [
       "<Figure size 432x288 with 1 Axes>"
      ]
     },
     "metadata": {
      "needs_background": "light"
     },
     "output_type": "display_data"
    },
    {
     "data": {
      "text/plain": [
       "[<matplotlib.lines.Line2D at 0x132fbe820>]"
      ]
     },
     "execution_count": 20,
     "metadata": {},
     "output_type": "execute_result"
    },
    {
     "data": {
      "image/png": "[encoded data removed]",
      "text/plain": [
       "<Figure size 432x288 with 1 Axes>"
      ]
     },
     "metadata": {
      "needs_background": "light"
     },
     "output_type": "display_data"
    }
   ],
   "source": [
    "plt.plot(days, change_maxsize, label='community w largest similarity to largest community on 1st day')\n",
    "plt.plot(days, maxes, label='maximum community size')\n",
    "plt.legend()\n",
    "plt.ylabel('# users')\n",
    "plt.xlabel('day')\n",
    "plt.show()\n",
    "plt.plot(days, change_maxsims)"
   ]
  },
  {
   "cell_type": "markdown",
   "metadata": {},
   "source": [
    "### Trying louvain communities algorithm on entire twitter dataset"
   ]
  },
  {
   "cell_type": "code",
   "execution_count": 34,
   "metadata": {},
   "outputs": [],
   "source": [
    "df1 = pd.read_csv(data_path + 'CompletedTwitterData.csv', dtype=\"str\")"
   ]
  },
  {
   "cell_type": "code",
   "execution_count": 35,
   "metadata": {},
   "outputs": [],
   "source": [
    "G1 = nx.from_pandas_edgelist(df1, 'user_screen_name', 'target_user')"
   ]
  },
  {
   "cell_type": "code",
   "execution_count": 36,
   "metadata": {},
   "outputs": [
    {
     "name": "stdout",
     "output_type": "stream",
     "text": [
      "24910\n"
     ]
    }
   ],
   "source": [
    "from networkx.algorithms.community import louvain_communities\n",
    "\n",
    "comm = louvain_communities(G1, seed=42)\n",
    "print(len(comm))"
   ]
  },
  {
   "cell_type": "code",
   "execution_count": 38,
   "metadata": {},
   "outputs": [
    {
     "data": {
      "text/plain": [
       "(array([63.,  3.,  2.,  1.,  2.,  3.,  2.,  2.,  1.,  2.,  2.,  1.,  4.,\n",
       "         0.,  2.,  0.,  0.,  0.,  0.,  1.,  1.,  0.,  1.,  1.,  0.,  0.,\n",
       "         0.,  0.,  0.,  1.,  1.,  0.,  1.,  0.,  1.,  0.,  0.,  0.,  0.,\n",
       "         0.,  1.,  0.,  0.,  0.,  0.,  0.,  0.,  0.,  0.,  0.,  0.,  0.,\n",
       "         0.,  0.,  1.,  0.,  0.,  1.,  2.,  0.,  0.,  0.,  0.,  0.,  0.,\n",
       "         0.,  0.,  0.,  0.,  0.,  0.,  0.,  0.,  0.,  0.,  1.,  0.,  0.,\n",
       "         0.,  0.,  0.,  0.,  0.,  1.,  0.,  0.,  0.,  0.,  0.,  0.,  0.,\n",
       "         0.,  0.,  1.,  0.,  0.,  0.,  0.,  0.,  0.,  0.,  1.,  0.,  0.,\n",
       "         0.,  0.,  0.,  0.,  0.,  0.,  1.,  0.,  0.,  0.,  0.,  0.,  0.,\n",
       "         0.,  0.,  0.,  0.,  0.,  0.,  0.,  0.,  0.,  0.,  0.,  0.,  0.,\n",
       "         0.,  0.,  0.,  0.,  0.,  0.,  0.,  0.,  0.,  0.,  1.,  0.,  0.,\n",
       "         0.,  0.,  0.,  0.,  0.,  0.,  0.,  0.,  0.,  1.,  0.,  0.,  0.,\n",
       "         0.,  0.,  0.,  0.,  0.,  0.,  0.,  0.,  0.,  0.,  0.,  0.,  1.,\n",
       "         0.,  0.,  0.,  0.,  0.,  0.,  0.,  0.,  1.,  0.,  0.,  0.,  0.,\n",
       "         0.,  0.,  0.,  0.,  0.,  0.,  0.,  0.,  0.,  0.,  0.,  0.,  0.,\n",
       "         0.,  0.,  0.,  0.,  0.,  0.,  0.,  0.,  0.,  0.,  0.,  0.,  0.,\n",
       "         0.,  0.,  0.,  0.,  0.,  0.,  0.,  0.,  0.,  0.,  0.,  0.,  0.,\n",
       "         0.,  0.,  0.,  0.,  0.,  0.,  0.,  0.,  0.,  0.,  0.,  0.,  0.,\n",
       "         0.,  0.,  0.,  0.,  0.,  0.,  0.,  0.,  0.,  0.,  0.,  0.,  0.,\n",
       "         0.,  0.,  0.,  0.,  0.,  0.,  0.,  0.,  0.,  0.,  0.,  0.,  0.,\n",
       "         0.,  0.,  0.,  0.,  0.,  0.,  0.,  0.,  0.,  0.,  0.,  0.,  0.,\n",
       "         0.,  0.,  0.,  0.,  0.,  0.,  0.,  0.,  0.,  0.,  0.,  0.,  0.,\n",
       "         0.,  0.,  0.,  0.,  0.,  0.,  0.,  0.,  0.,  0.,  0.,  0.,  0.,\n",
       "         0.,  0.,  0.,  0.,  0.,  0.,  0.,  0.,  0.,  0.,  0.,  0.,  0.,\n",
       "         0.,  0.,  0.,  0.,  0.,  0.,  0.,  0.,  0.,  0.,  0.,  0.,  0.,\n",
       "         0.,  0.,  0.,  0.,  0.,  0.,  0.,  0.,  0.,  0.,  0.,  0.,  0.,\n",
       "         0.,  0.,  0.,  0.,  0.,  0.,  0.,  0.,  0.,  0.,  0.,  0.,  0.,\n",
       "         0.,  0.,  0.,  0.,  0.,  0.,  0.,  0.,  0.,  0.,  0.,  0.,  0.,\n",
       "         0.,  0.,  0.,  0.,  0.,  0.,  0.,  0.,  0.,  0.,  0.,  0.,  0.,\n",
       "         0.,  0.,  0.,  0.,  0.,  0.,  0.,  0.,  0.,  0.,  0.,  0.,  0.,\n",
       "         0.,  0.,  0.,  0.,  0.,  0.,  0.,  0.,  0.,  0.,  0.,  0.,  0.,\n",
       "         0.,  0.,  0.,  0.,  0.,  0.,  0.,  1.,  0.,  0.,  0.,  0.,  0.,\n",
       "         0.,  0.,  0.,  0.,  0.,  0.,  0.,  0.,  0.,  0.,  0.,  0.,  0.,\n",
       "         0.,  0.,  0.,  0.,  0.,  0.,  0.,  0.,  0.,  0.,  0.,  0.,  0.,\n",
       "         0.,  0.,  0.,  0.,  0.,  0.,  0.,  0.,  0.,  0.,  0.,  0.,  0.,\n",
       "         0.,  0.,  0.,  0.,  0.,  0.,  0.,  0.,  0.,  0.,  0.,  0.,  0.,\n",
       "         0.,  0.,  0.,  0.,  0.,  0.,  0.,  0.,  0.,  0.,  0.,  0.,  0.,\n",
       "         0.,  0.,  0.,  0.,  0.,  0.,  0.,  0.,  0.,  0.,  0.,  0.,  0.,\n",
       "         0.,  0.,  0.,  0.,  0.,  1.]),\n",
       " array([1.00000000e+00, 3.27172000e+02, 6.53344000e+02, 9.79516000e+02,\n",
       "        1.30568800e+03, 1.63186000e+03, 1.95803200e+03, 2.28420400e+03,\n",
       "        2.61037600e+03, 2.93654800e+03, 3.26272000e+03, 3.58889200e+03,\n",
       "        3.91506400e+03, 4.24123600e+03, 4.56740800e+03, 4.89358000e+03,\n",
       "        5.21975200e+03, 5.54592400e+03, 5.87209600e+03, 6.19826800e+03,\n",
       "        6.52444000e+03, 6.85061200e+03, 7.17678400e+03, 7.50295600e+03,\n",
       "        7.82912800e+03, 8.15530000e+03, 8.48147200e+03, 8.80764400e+03,\n",
       "        9.13381600e+03, 9.45998800e+03, 9.78616000e+03, 1.01123320e+04,\n",
       "        1.04385040e+04, 1.07646760e+04, 1.10908480e+04, 1.14170200e+04,\n",
       "        1.17431920e+04, 1.20693640e+04, 1.23955360e+04, 1.27217080e+04,\n",
       "        1.30478800e+04, 1.33740520e+04, 1.37002240e+04, 1.40263960e+04,\n",
       "        1.43525680e+04, 1.46787400e+04, 1.50049120e+04, 1.53310840e+04,\n",
       "        1.56572560e+04, 1.59834280e+04, 1.63096000e+04, 1.66357720e+04,\n",
       "        1.69619440e+04, 1.72881160e+04, 1.76142880e+04, 1.79404600e+04,\n",
       "        1.82666320e+04, 1.85928040e+04, 1.89189760e+04, 1.92451480e+04,\n",
       "        1.95713200e+04, 1.98974920e+04, 2.02236640e+04, 2.05498360e+04,\n",
       "        2.08760080e+04, 2.12021800e+04, 2.15283520e+04, 2.18545240e+04,\n",
       "        2.21806960e+04, 2.25068680e+04, 2.28330400e+04, 2.31592120e+04,\n",
       "        2.34853840e+04, 2.38115560e+04, 2.41377280e+04, 2.44639000e+04,\n",
       "        2.47900720e+04, 2.51162440e+04, 2.54424160e+04, 2.57685880e+04,\n",
       "        2.60947600e+04, 2.64209320e+04, 2.67471040e+04, 2.70732760e+04,\n",
       "        2.73994480e+04, 2.77256200e+04, 2.80517920e+04, 2.83779640e+04,\n",
       "        2.87041360e+04, 2.90303080e+04, 2.93564800e+04, 2.96826520e+04,\n",
       "        3.00088240e+04, 3.03349960e+04, 3.06611680e+04, 3.09873400e+04,\n",
       "        3.13135120e+04, 3.16396840e+04, 3.19658560e+04, 3.22920280e+04,\n",
       "        3.26182000e+04, 3.29443720e+04, 3.32705440e+04, 3.35967160e+04,\n",
       "        3.39228880e+04, 3.42490600e+04, 3.45752320e+04, 3.49014040e+04,\n",
       "        3.52275760e+04, 3.55537480e+04, 3.58799200e+04, 3.62060920e+04,\n",
       "        3.65322640e+04, 3.68584360e+04, 3.71846080e+04, 3.75107800e+04,\n",
       "        3.78369520e+04, 3.81631240e+04, 3.84892960e+04, 3.88154680e+04,\n",
       "        3.91416400e+04, 3.94678120e+04, 3.97939840e+04, 4.01201560e+04,\n",
       "        4.04463280e+04, 4.07725000e+04, 4.10986720e+04, 4.14248440e+04,\n",
       "        4.17510160e+04, 4.20771880e+04, 4.24033600e+04, 4.27295320e+04,\n",
       "        4.30557040e+04, 4.33818760e+04, 4.37080480e+04, 4.40342200e+04,\n",
       "        4.43603920e+04, 4.46865640e+04, 4.50127360e+04, 4.53389080e+04,\n",
       "        4.56650800e+04, 4.59912520e+04, 4.63174240e+04, 4.66435960e+04,\n",
       "        4.69697680e+04, 4.72959400e+04, 4.76221120e+04, 4.79482840e+04,\n",
       "        4.82744560e+04, 4.86006280e+04, 4.89268000e+04, 4.92529720e+04,\n",
       "        4.95791440e+04, 4.99053160e+04, 5.02314880e+04, 5.05576600e+04,\n",
       "        5.08838320e+04, 5.12100040e+04, 5.15361760e+04, 5.18623480e+04,\n",
       "        5.21885200e+04, 5.25146920e+04, 5.28408640e+04, 5.31670360e+04,\n",
       "        5.34932080e+04, 5.38193800e+04, 5.41455520e+04, 5.44717240e+04,\n",
       "        5.47978960e+04, 5.51240680e+04, 5.54502400e+04, 5.57764120e+04,\n",
       "        5.61025840e+04, 5.64287560e+04, 5.67549280e+04, 5.70811000e+04,\n",
       "        5.74072720e+04, 5.77334440e+04, 5.80596160e+04, 5.83857880e+04,\n",
       "        5.87119600e+04, 5.90381320e+04, 5.93643040e+04, 5.96904760e+04,\n",
       "        6.00166480e+04, 6.03428200e+04, 6.06689920e+04, 6.09951640e+04,\n",
       "        6.13213360e+04, 6.16475080e+04, 6.19736800e+04, 6.22998520e+04,\n",
       "        6.26260240e+04, 6.29521960e+04, 6.32783680e+04, 6.36045400e+04,\n",
       "        6.39307120e+04, 6.42568840e+04, 6.45830560e+04, 6.49092280e+04,\n",
       "        6.52354000e+04, 6.55615720e+04, 6.58877440e+04, 6.62139160e+04,\n",
       "        6.65400880e+04, 6.68662600e+04, 6.71924320e+04, 6.75186040e+04,\n",
       "        6.78447760e+04, 6.81709480e+04, 6.84971200e+04, 6.88232920e+04,\n",
       "        6.91494640e+04, 6.94756360e+04, 6.98018080e+04, 7.01279800e+04,\n",
       "        7.04541520e+04, 7.07803240e+04, 7.11064960e+04, 7.14326680e+04,\n",
       "        7.17588400e+04, 7.20850120e+04, 7.24111840e+04, 7.27373560e+04,\n",
       "        7.30635280e+04, 7.33897000e+04, 7.37158720e+04, 7.40420440e+04,\n",
       "        7.43682160e+04, 7.46943880e+04, 7.50205600e+04, 7.53467320e+04,\n",
       "        7.56729040e+04, 7.59990760e+04, 7.63252480e+04, 7.66514200e+04,\n",
       "        7.69775920e+04, 7.73037640e+04, 7.76299360e+04, 7.79561080e+04,\n",
       "        7.82822800e+04, 7.86084520e+04, 7.89346240e+04, 7.92607960e+04,\n",
       "        7.95869680e+04, 7.99131400e+04, 8.02393120e+04, 8.05654840e+04,\n",
       "        8.08916560e+04, 8.12178280e+04, 8.15440000e+04, 8.18701720e+04,\n",
       "        8.21963440e+04, 8.25225160e+04, 8.28486880e+04, 8.31748600e+04,\n",
       "        8.35010320e+04, 8.38272040e+04, 8.41533760e+04, 8.44795480e+04,\n",
       "        8.48057200e+04, 8.51318920e+04, 8.54580640e+04, 8.57842360e+04,\n",
       "        8.61104080e+04, 8.64365800e+04, 8.67627520e+04, 8.70889240e+04,\n",
       "        8.74150960e+04, 8.77412680e+04, 8.80674400e+04, 8.83936120e+04,\n",
       "        8.87197840e+04, 8.90459560e+04, 8.93721280e+04, 8.96983000e+04,\n",
       "        9.00244720e+04, 9.03506440e+04, 9.06768160e+04, 9.10029880e+04,\n",
       "        9.13291600e+04, 9.16553320e+04, 9.19815040e+04, 9.23076760e+04,\n",
       "        9.26338480e+04, 9.29600200e+04, 9.32861920e+04, 9.36123640e+04,\n",
       "        9.39385360e+04, 9.42647080e+04, 9.45908800e+04, 9.49170520e+04,\n",
       "        9.52432240e+04, 9.55693960e+04, 9.58955680e+04, 9.62217400e+04,\n",
       "        9.65479120e+04, 9.68740840e+04, 9.72002560e+04, 9.75264280e+04,\n",
       "        9.78526000e+04, 9.81787720e+04, 9.85049440e+04, 9.88311160e+04,\n",
       "        9.91572880e+04, 9.94834600e+04, 9.98096320e+04, 1.00135804e+05,\n",
       "        1.00461976e+05, 1.00788148e+05, 1.01114320e+05, 1.01440492e+05,\n",
       "        1.01766664e+05, 1.02092836e+05, 1.02419008e+05, 1.02745180e+05,\n",
       "        1.03071352e+05, 1.03397524e+05, 1.03723696e+05, 1.04049868e+05,\n",
       "        1.04376040e+05, 1.04702212e+05, 1.05028384e+05, 1.05354556e+05,\n",
       "        1.05680728e+05, 1.06006900e+05, 1.06333072e+05, 1.06659244e+05,\n",
       "        1.06985416e+05, 1.07311588e+05, 1.07637760e+05, 1.07963932e+05,\n",
       "        1.08290104e+05, 1.08616276e+05, 1.08942448e+05, 1.09268620e+05,\n",
       "        1.09594792e+05, 1.09920964e+05, 1.10247136e+05, 1.10573308e+05,\n",
       "        1.10899480e+05, 1.11225652e+05, 1.11551824e+05, 1.11877996e+05,\n",
       "        1.12204168e+05, 1.12530340e+05, 1.12856512e+05, 1.13182684e+05,\n",
       "        1.13508856e+05, 1.13835028e+05, 1.14161200e+05, 1.14487372e+05,\n",
       "        1.14813544e+05, 1.15139716e+05, 1.15465888e+05, 1.15792060e+05,\n",
       "        1.16118232e+05, 1.16444404e+05, 1.16770576e+05, 1.17096748e+05,\n",
       "        1.17422920e+05, 1.17749092e+05, 1.18075264e+05, 1.18401436e+05,\n",
       "        1.18727608e+05, 1.19053780e+05, 1.19379952e+05, 1.19706124e+05,\n",
       "        1.20032296e+05, 1.20358468e+05, 1.20684640e+05, 1.21010812e+05,\n",
       "        1.21336984e+05, 1.21663156e+05, 1.21989328e+05, 1.22315500e+05,\n",
       "        1.22641672e+05, 1.22967844e+05, 1.23294016e+05, 1.23620188e+05,\n",
       "        1.23946360e+05, 1.24272532e+05, 1.24598704e+05, 1.24924876e+05,\n",
       "        1.25251048e+05, 1.25577220e+05, 1.25903392e+05, 1.26229564e+05,\n",
       "        1.26555736e+05, 1.26881908e+05, 1.27208080e+05, 1.27534252e+05,\n",
       "        1.27860424e+05, 1.28186596e+05, 1.28512768e+05, 1.28838940e+05,\n",
       "        1.29165112e+05, 1.29491284e+05, 1.29817456e+05, 1.30143628e+05,\n",
       "        1.30469800e+05, 1.30795972e+05, 1.31122144e+05, 1.31448316e+05,\n",
       "        1.31774488e+05, 1.32100660e+05, 1.32426832e+05, 1.32753004e+05,\n",
       "        1.33079176e+05, 1.33405348e+05, 1.33731520e+05, 1.34057692e+05,\n",
       "        1.34383864e+05, 1.34710036e+05, 1.35036208e+05, 1.35362380e+05,\n",
       "        1.35688552e+05, 1.36014724e+05, 1.36340896e+05, 1.36667068e+05,\n",
       "        1.36993240e+05, 1.37319412e+05, 1.37645584e+05, 1.37971756e+05,\n",
       "        1.38297928e+05, 1.38624100e+05, 1.38950272e+05, 1.39276444e+05,\n",
       "        1.39602616e+05, 1.39928788e+05, 1.40254960e+05, 1.40581132e+05,\n",
       "        1.40907304e+05, 1.41233476e+05, 1.41559648e+05, 1.41885820e+05,\n",
       "        1.42211992e+05, 1.42538164e+05, 1.42864336e+05, 1.43190508e+05,\n",
       "        1.43516680e+05, 1.43842852e+05, 1.44169024e+05, 1.44495196e+05,\n",
       "        1.44821368e+05, 1.45147540e+05, 1.45473712e+05, 1.45799884e+05,\n",
       "        1.46126056e+05, 1.46452228e+05, 1.46778400e+05, 1.47104572e+05,\n",
       "        1.47430744e+05, 1.47756916e+05, 1.48083088e+05, 1.48409260e+05,\n",
       "        1.48735432e+05, 1.49061604e+05, 1.49387776e+05, 1.49713948e+05,\n",
       "        1.50040120e+05, 1.50366292e+05, 1.50692464e+05, 1.51018636e+05,\n",
       "        1.51344808e+05, 1.51670980e+05, 1.51997152e+05, 1.52323324e+05,\n",
       "        1.52649496e+05, 1.52975668e+05, 1.53301840e+05, 1.53628012e+05,\n",
       "        1.53954184e+05, 1.54280356e+05, 1.54606528e+05, 1.54932700e+05,\n",
       "        1.55258872e+05, 1.55585044e+05, 1.55911216e+05, 1.56237388e+05,\n",
       "        1.56563560e+05, 1.56889732e+05, 1.57215904e+05, 1.57542076e+05,\n",
       "        1.57868248e+05, 1.58194420e+05, 1.58520592e+05, 1.58846764e+05,\n",
       "        1.59172936e+05, 1.59499108e+05, 1.59825280e+05, 1.60151452e+05,\n",
       "        1.60477624e+05, 1.60803796e+05, 1.61129968e+05, 1.61456140e+05,\n",
       "        1.61782312e+05, 1.62108484e+05, 1.62434656e+05, 1.62760828e+05,\n",
       "        1.63087000e+05]),\n",
       " <BarContainer object of 500 artists>)"
      ]
     },
     "execution_count": 38,
     "metadata": {},
     "output_type": "execute_result"
    },
    {
     "data": {
      "image/png": "[encoded data removed]",
      "text/plain": [
       "<Figure size 432x288 with 1 Axes>"
      ]
     },
     "metadata": {
      "needs_background": "light"
     },
     "output_type": "display_data"
    }
   ],
   "source": [
    "height = {len(x) for x in comm}\n",
    "plt.hist(list(height), bins=500)"
   ]
  },
  {
   "cell_type": "code",
   "execution_count": null,
   "metadata": {},
   "outputs": [],
   "source": [
    "largest_comm = sorted(comm, key=len)[-1]\n",
    "G_largest_comm = G1.subgraph(largest_comm)\n",
    "len(G_largest_comm.nodes)\n",
    "# nx.draw(G_largest_comm)"
   ]
  }
 ],
 "metadata": {
  "colab": {
   "name": "Math168 Project Twitter Data.ipynb",
   "provenance": []
  },
  "kernelspec": {
   "display_name": "Python 3 (ipykernel)",
   "language": "python",
   "name": "python3"
  },
  "language_info": {
   "codemirror_mode": {
    "name": "ipython",
    "version": 3
   },
   "file_extension": ".py",
   "mimetype": "text/x-python",
   "name": "python",
   "nbconvert_exporter": "python",
   "pygments_lexer": "ipython3",
   "version": "3.8.5"
  }
 },
 "nbformat": 4,
 "nbformat_minor": 1
}
