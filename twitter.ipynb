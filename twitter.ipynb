{
 "cells": [
  {
   "cell_type": "code",
   "execution_count": 21,
   "id": "cf2f12cd",
   "metadata": {},
   "outputs": [],
   "source": [
    "import datetime as dt\n",
    "import csv\n",
    "import pandas as pd\n",
    "import networkx as nx"
   ]
  },
  {
   "cell_type": "code",
   "execution_count": 12,
   "id": "8311d51d",
   "metadata": {},
   "outputs": [
    {
     "data": {
      "text/plain": [
       "['shot',\n",
       " 'vaccine',\n",
       " 'vacine',\n",
       " 'vacines',\n",
       " 'vaccines',\n",
       " 'vaccinate',\n",
       " 'vaccination',\n",
       " 'vaccinations',\n",
       " 'vaccinated',\n",
       " 'vaccinating',\n",
       " 'vaxxed',\n",
       " 'vaxx',\n",
       " 'vax',\n",
       " 'unvaccinated',\n",
       " 'unvaxxed',\n",
       " 'antivaxx',\n",
       " 'antivaccination',\n",
       " 'anti',\n",
       " 'moderna',\n",
       " 'pfizer',\n",
       " 'J&J',\n",
       " 'immune',\n",
       " 'immunize',\n",
       " 'immunizes',\n",
       " 'immunized',\n",
       " 'immunization',\n",
       " 'immunizations']"
      ]
     },
     "execution_count": 12,
     "metadata": {},
     "output_type": "execute_result"
    }
   ],
   "source": [
    "vaccine_terms = 'shot|vaccine|vacine|vacines|vaccines|vaccinate|vaccination|vaccinations|vaccinated|vaccinating|vaxxed|vaxx|vax|\\\n",
    "unvaccinated|unvaxxed|antivaxx|antivaccination|anti|\\\n",
    "moderna|pfizer|J&J|immune|immunize|immunizes|immunized|immunization|immunizations'\n",
    "vaccine_terms_list= vaccine_terms.split('|')\n",
    "vaccine_terms_list"
   ]
  },
  {
   "cell_type": "code",
   "execution_count": null,
   "id": "1d6ff856",
   "metadata": {},
   "outputs": [],
   "source": [
    "# use your own path for the data\n",
    "data_path = '/Volumes/GoogleDrive-105418601834042090131/My Drive/math168_project/data'"
   ]
  },
  {
   "cell_type": "code",
   "execution_count": null,
   "id": "14de902b",
   "metadata": {},
   "outputs": [
    {
     "name": "stderr",
     "output_type": "stream",
     "text": [
      "/var/folders/1w/qqx3tnc943383tv49dm69fd00000gn/T/ipykernel_35662/330679818.py:9: DtypeWarning: Columns (0) have mixed types. Specify dtype option on import or set low_memory=False.\n",
      "  df = pd.read_csv(f)\n"
     ]
    },
    {
     "name": "stdout",
     "output_type": "stream",
     "text": [
      "350425\n",
      "112895\n"
     ]
    }
   ],
   "source": [
    "import os\n",
    "import glob\n",
    "  \n",
    "csv_files = glob.glob(os.path.join(data_path, \"*.csv\"))\n",
    "\n",
    "for f in csv_files:\n",
    "      \n",
    "    # read the csv file\n",
    "    df = pd.read_csv(f)\n",
    "      \n",
    "    # print the location and filename\n",
    "    df = df[['user_id', 'text', 'created_at', 'id', 'in_reply_to_screen_name', 'retweet_screen_name', 'user_screen_name']]\n",
    "    df = df.dropna(subset=['in_reply_to_screen_name', 'retweet_screen_name'], how='all')\n",
    "    print(len(df))\n",
    "    df = df[df.text.str.contains(vaccine_terms)]\n",
    "    print(len(df))\n",
    "    G = nx.from_pandas_edgelist(df, 'user_screen_name', 'in_reply_to_screen_name', create_using=nx.MultiGraph())\n",
    "    nx.draw(G)\n",
    "    break\n",
    "\n"
   ]
  }
 ],
 "metadata": {
  "kernelspec": {
   "display_name": "Python 3 (ipykernel)",
   "language": "python",
   "name": "python3"
  },
  "language_info": {
   "codemirror_mode": {
    "name": "ipython",
    "version": 3
   },
   "file_extension": ".py",
   "mimetype": "text/x-python",
   "name": "python",
   "nbconvert_exporter": "python",
   "pygments_lexer": "ipython3",
   "version": "3.8.5"
  }
 },
 "nbformat": 4,
 "nbformat_minor": 5
}
