{
  "nbformat": 4,
  "nbformat_minor": 0,
  "metadata": {
    "colab": {
      "name": "Math168 Project Twitter Data.ipynb",
      "provenance": []
    },
    "kernelspec": {
      "name": "python3",
      "display_name": "Python 3"
    },
    "language_info": {
      "name": "python"
    }
  },
  "cells": [
    {
      "cell_type": "code",
      "execution_count": null,
      "metadata": {
        "id": "WxlGZPEXMwpK"
      },
      "outputs": [],
      "source": [
        "import datetime as dt\n",
        "import csv\n",
        "import pandas as pd\n",
        "import networkx as nx"
      ]
    },
    {
      "cell_type": "code",
      "source": [
        "vaccine_terms = 'shot|vaccine|vacine|vacines|vaccines|vaccinate|vaccination|vaccinations|vaccinated|vaccinating|vaxxed|vaxx|vax|\\\n",
        "unvaccinated|unvaxxed|antivaxx|antivaccination|anti|\\\n",
        "moderna|pfizer|J&J|immune|immunize|immunizes|immunized|immunization|immunizations'\n",
        "vaccine_terms_list= vaccine_terms.split('|')"
      ],
      "metadata": {
        "id": "K30uRdTbM7o9"
      },
      "execution_count": null,
      "outputs": []
    },
    {
      "cell_type": "code",
      "source": [
        "data_path = '/content/drive/MyDrive/math168_project/data/08_31.csv'"
      ],
      "metadata": {
        "id": "22CWPDMHM9PU"
      },
      "execution_count": 55,
      "outputs": []
    },
    {
      "cell_type": "code",
      "source": [
        "import os\n",
        "import glob\n",
        "  \n",
        "# csv_files = glob.glob(os.path.join(data_path, \"*.csv\"))\n",
        "\n",
        "# read the csv file individually\n",
        "df = pd.read_csv(data_path, dtype=\"str\")\n",
        "      \n",
        "# print the location and filename\n",
        "df = df[['user_id', 'text', 'created_at', 'id', 'in_reply_to_screen_name', 'retweet_screen_name', 'user_screen_name']]\n",
        "    \n",
        "# either a reply or a retweet\n",
        "df = df.dropna(subset=['in_reply_to_screen_name', 'retweet_screen_name'], how='all')\n",
        "df = df[df.text.str.contains(vaccine_terms)]\n",
        "    \n",
        "df['target_user'] = df['in_reply_to_screen_name'].fillna('') + df['retweet_screen_name'].fillna('')\n",
        "    \n",
        "# make graph\n",
        "# G = nx.from_pandas_edgelist(df, 'user_screen_name', 'target_user', create_using=nx.MultiGraph())\n",
        "    \n",
        "# save the updated csv to the same directory - decide on a naming convention for these files\n",
        "# currently it is {original_file_name}_twitter.csv\n",
        "f_name, _ = os.path.splitext(data_path)\n",
        "df.to_csv(f_name+'_twitter.csv', index=False, encoding='utf-8-sig')\n",
        "\n"
      ],
      "metadata": {
        "id": "jaa1OjvjNCX7",
        "colab": {
          "base_uri": "https://localhost:8080/"
        },
        "outputId": "54e7e906-7285-499d-864d-990158afff5f"
      },
      "execution_count": 56,
      "outputs": [
        {
          "output_type": "stream",
          "name": "stderr",
          "text": [
            "/usr/local/lib/python3.7/dist-packages/ipykernel_launcher.py:16: SettingWithCopyWarning: \n",
            "A value is trying to be set on a copy of a slice from a DataFrame.\n",
            "Try using .loc[row_indexer,col_indexer] = value instead\n",
            "\n",
            "See the caveats in the documentation: https://pandas.pydata.org/pandas-docs/stable/user_guide/indexing.html#returning-a-view-versus-a-copy\n",
            "  app.launch_new_instance()\n"
          ]
        }
      ]
    },
    {
      "cell_type": "code",
      "source": [
        "# merge all updated data together\n",
        "# get all csv_files in the directory\n",
        "data_path2 = '/content/drive/MyDrive/math168_project/data/'\n",
        "csv_files = glob.glob(os.path.join(data_path2, \"*.csv\"))\n",
        "\n",
        "# get all updated dataframes\n",
        "files = []\n",
        "for file in csv_files:\n",
        "  if 'twitter' in file: \n",
        "    files.append(file)\n",
        "\n",
        "# merge\n",
        "completed_df = pd.concat(map(pd.read_csv, files), ignore_index=True)\n",
        "\n",
        "# save the completed csv file to the same directory\n",
        "completed_df.to_csv(data_path2+'completed_twitter_data.csv', index=False, encoding='utf-8-sig')"
      ],
      "metadata": {
        "id": "a1ocFg6caNH3",
        "colab": {
          "base_uri": "https://localhost:8080/"
        },
        "outputId": "50777a0a-4b21-4ef9-bbba-c8b2a6eab1bc"
      },
      "execution_count": 61,
      "outputs": [
        {
          "output_type": "stream",
          "name": "stderr",
          "text": [
            "/usr/local/lib/python3.7/dist-packages/pandas/core/reshape/concat.py:304: DtypeWarning: Columns (0) have mixed types.Specify dtype option on import or set low_memory=False.\n",
            "  sort=sort,\n",
            "/usr/local/lib/python3.7/dist-packages/pandas/core/reshape/concat.py:304: DtypeWarning: Columns (0,3) have mixed types.Specify dtype option on import or set low_memory=False.\n",
            "  sort=sort,\n"
          ]
        }
      ]
    },
    {
      "cell_type": "code",
      "source": [
        "len(completed_df)"
      ],
      "metadata": {
        "colab": {
          "base_uri": "https://localhost:8080/"
        },
        "id": "aGYQqNIvi0F-",
        "outputId": "d9f82213-7891-426e-efc8-6c9cea434fb3"
      },
      "execution_count": 62,
      "outputs": [
        {
          "output_type": "execute_result",
          "data": {
            "text/plain": [
              "2967844"
            ]
          },
          "metadata": {},
          "execution_count": 62
        }
      ]
    },
    {
      "cell_type": "code",
      "source": [
        ""
      ],
      "metadata": {
        "id": "LO9t9S4CoLUb"
      },
      "execution_count": null,
      "outputs": []
    }
  ]
}