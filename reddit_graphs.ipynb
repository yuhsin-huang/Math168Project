{
 "cells": [
  {
   "cell_type": "code",
   "execution_count": 1,
   "metadata": {
    "colab": {
     "base_uri": "https://localhost:8080/"
    },
    "id": "10o3HD8z8pVM",
    "outputId": "a100dde5-2b90-4a08-b286-b93e18e525b5"
   },
   "outputs": [
    {
     "name": "stdout",
     "output_type": "stream",
     "text": [
      "Mounted at /content/gdrive\n"
     ]
    }
   ],
   "source": [
    "from google.colab import drive\n",
    "drive.mount('/content/gdrive')"
   ]
  },
  {
   "cell_type": "code",
   "execution_count": 2,
   "metadata": {
    "id": "M3q4uw58zjrq"
   },
   "outputs": [],
   "source": [
    "import pandas as pd\n",
    "import numpy as np\n",
    "import networkx as nx \n",
    "from matplotlib import pyplot as plt"
   ]
  },
  {
   "cell_type": "markdown",
   "metadata": {
    "id": "D12ISMxV9-U6"
   },
   "source": [
    "# Turning dataframe into weighted graph"
   ]
  },
  {
   "cell_type": "code",
   "execution_count": 4,
   "metadata": {
    "id": "zFlCnrUAzwnz"
   },
   "outputs": [],
   "source": [
    "df = pd.read_csv(\"https://raw.githubusercontent.com/yuhsin-huang/Math168Project/main/reddit_data.csv\")\n"
   ]
  },
  {
   "cell_type": "code",
   "execution_count": 5,
   "metadata": {
    "colab": {
     "base_uri": "https://localhost:8080/",
     "height": 166
    },
    "id": "o5yCIJwi1WQV",
    "outputId": "c95b2908-72fe-4549-a9b8-377f9dd6958e"
   },
   "outputs": [
    {
     "data": {
      "text/html": [
       "<div>\n",
       "<style scoped>\n",
       "    .dataframe tbody tr th:only-of-type {\n",
       "        vertical-align: middle;\n",
       "    }\n",
       "\n",
       "    .dataframe tbody tr th {\n",
       "        vertical-align: top;\n",
       "    }\n",
       "\n",
       "    .dataframe thead th {\n",
       "        text-align: right;\n",
       "    }\n",
       "</style>\n",
       "<table border=\"1\" class=\"dataframe\">\n",
       "  <thead>\n",
       "    <tr style=\"text-align: right;\">\n",
       "      <th></th>\n",
       "      <th>ID</th>\n",
       "      <th>Date_utc</th>\n",
       "      <th>Author</th>\n",
       "      <th>Body</th>\n",
       "      <th>Submission</th>\n",
       "      <th>Parent_ID</th>\n",
       "      <th>Parent_Author</th>\n",
       "      <th>Level</th>\n",
       "      <th>Subreddit</th>\n",
       "      <th>Submission_Author</th>\n",
       "      <th>Submission_Title</th>\n",
       "    </tr>\n",
       "  </thead>\n",
       "  <tbody>\n",
       "    <tr>\n",
       "      <th>0</th>\n",
       "      <td>hb5o5xe</td>\n",
       "      <td>1.630477e+09</td>\n",
       "      <td>krusty3x</td>\n",
       "      <td>This alone should put him In the chair.</td>\n",
       "      <td>pfnoiq</td>\n",
       "      <td>pfnoiq</td>\n",
       "      <td>8uwotm8</td>\n",
       "      <td>1</td>\n",
       "      <td>trueantivaccination</td>\n",
       "      <td>8uwotm8</td>\n",
       "      <td>Fauci-run NIAID spends almost $500k to run cru...</td>\n",
       "    </tr>\n",
       "    <tr>\n",
       "      <th>1</th>\n",
       "      <td>hb5tb0n</td>\n",
       "      <td>1.630481e+09</td>\n",
       "      <td>8uwotm8</td>\n",
       "      <td>nah he and his cumstains evil f4scists should ...</td>\n",
       "      <td>pfnoiq</td>\n",
       "      <td>hb5o5xe</td>\n",
       "      <td>krusty3x</td>\n",
       "      <td>2</td>\n",
       "      <td>trueantivaccination</td>\n",
       "      <td>8uwotm8</td>\n",
       "      <td>Fauci-run NIAID spends almost $500k to run cru...</td>\n",
       "    </tr>\n",
       "    <tr>\n",
       "      <th>2</th>\n",
       "      <td>hb88isn</td>\n",
       "      <td>1.630526e+09</td>\n",
       "      <td>SerScronzarelli</td>\n",
       "      <td>Grasping for straws aren't you?</td>\n",
       "      <td>pfmh8q</td>\n",
       "      <td>pfmh8q</td>\n",
       "      <td>Revolutionary-Comb35</td>\n",
       "      <td>1</td>\n",
       "      <td>trueantivaccination</td>\n",
       "      <td>Revolutionary-Comb35</td>\n",
       "      <td>Was this young lady a recent recipient of a vax?</td>\n",
       "    </tr>\n",
       "    <tr>\n",
       "      <th>3</th>\n",
       "      <td>hb9cje6</td>\n",
       "      <td>1.630545e+09</td>\n",
       "      <td>Revolutionary-Comb35</td>\n",
       "      <td>Inquiring minds want to know; \\r\\n\\r\\nwhat IF ...</td>\n",
       "      <td>pfmh8q</td>\n",
       "      <td>hb88isn</td>\n",
       "      <td>SerScronzarelli</td>\n",
       "      <td>2</td>\n",
       "      <td>trueantivaccination</td>\n",
       "      <td>Revolutionary-Comb35</td>\n",
       "      <td>Was this young lady a recent recipient of a vax?</td>\n",
       "    </tr>\n",
       "    <tr>\n",
       "      <th>4</th>\n",
       "      <td>hdndp6o</td>\n",
       "      <td>1.632178e+09</td>\n",
       "      <td>Revolutionary-Comb35</td>\n",
       "      <td>Have you change your tune about my inquiry now...</td>\n",
       "      <td>pfmh8q</td>\n",
       "      <td>hb88isn</td>\n",
       "      <td>SerScronzarelli</td>\n",
       "      <td>2</td>\n",
       "      <td>trueantivaccination</td>\n",
       "      <td>Revolutionary-Comb35</td>\n",
       "      <td>Was this young lady a recent recipient of a vax?</td>\n",
       "    </tr>\n",
       "  </tbody>\n",
       "</table>\n",
       "</div>"
      ],
      "text/plain": [
       "        ID      Date_utc                Author  \\\n",
       "0  hb5o5xe  1.630477e+09              krusty3x   \n",
       "1  hb5tb0n  1.630481e+09               8uwotm8   \n",
       "2  hb88isn  1.630526e+09       SerScronzarelli   \n",
       "3  hb9cje6  1.630545e+09  Revolutionary-Comb35   \n",
       "4  hdndp6o  1.632178e+09  Revolutionary-Comb35   \n",
       "\n",
       "                                                Body Submission Parent_ID  \\\n",
       "0            This alone should put him In the chair.     pfnoiq    pfnoiq   \n",
       "1  nah he and his cumstains evil f4scists should ...     pfnoiq   hb5o5xe   \n",
       "2                    Grasping for straws aren't you?     pfmh8q    pfmh8q   \n",
       "3  Inquiring minds want to know; \\r\\n\\r\\nwhat IF ...     pfmh8q   hb88isn   \n",
       "4  Have you change your tune about my inquiry now...     pfmh8q   hb88isn   \n",
       "\n",
       "          Parent_Author  Level            Subreddit     Submission_Author  \\\n",
       "0               8uwotm8      1  trueantivaccination               8uwotm8   \n",
       "1              krusty3x      2  trueantivaccination               8uwotm8   \n",
       "2  Revolutionary-Comb35      1  trueantivaccination  Revolutionary-Comb35   \n",
       "3       SerScronzarelli      2  trueantivaccination  Revolutionary-Comb35   \n",
       "4       SerScronzarelli      2  trueantivaccination  Revolutionary-Comb35   \n",
       "\n",
       "                                    Submission_Title  \n",
       "0  Fauci-run NIAID spends almost $500k to run cru...  \n",
       "1  Fauci-run NIAID spends almost $500k to run cru...  \n",
       "2   Was this young lady a recent recipient of a vax?  \n",
       "3   Was this young lady a recent recipient of a vax?  \n",
       "4   Was this young lady a recent recipient of a vax?  "
      ]
     },
     "execution_count": 5,
     "metadata": {},
     "output_type": "execute_result"
    }
   ],
   "source": [
    "df.head()"
   ]
  },
  {
   "cell_type": "code",
   "execution_count": null,
   "metadata": {
    "id": "ZHLHvHTkz-4W"
   },
   "outputs": [],
   "source": [
    "\n",
    "G = nx.from_pandas_edgelist(df, create_using = nx.MultiGraph, source = \"Author\", target = \"Parent_Author\", \n",
    "                            edge_attr = [\"ID\", \"Body\",\"Date_utc\",\"Level\",\"Subreddit\", \"Submission_Title\"])"
   ]
  },
  {
   "cell_type": "code",
   "execution_count": null,
   "metadata": {
    "id": "w_CI3OYS1lhC"
   },
   "outputs": [],
   "source": [
    "WG = nx.Graph()\n",
    "for u,v,data in G.edges(data=True):\n",
    "    w = data['weight'] if 'weight' in data else 1.0\n",
    "    if WG.has_edge(u,v):\n",
    "        WG[u][v]['weight'] += w\n",
    "    else:\n",
    "        WG.add_edge(u, v, weight=w)\n",
    "        \n",
    "    WG[u][v]['ID'] = data['ID']\n",
    "    WG[u][v]['Body'] = data['Body']\n",
    "    WG[u][v]['Level'] = data['Level']\n",
    "    WG[u][v]['Subreddit'] = data['Subreddit']\n",
    "    WG[u][v]['Date_utc'] = data[\"Date_utc\"]\n",
    "    WG[u][v]['Submission_Title'] = data['Submission_Title']"
   ]
  },
  {
   "cell_type": "code",
   "execution_count": null,
   "metadata": {
    "id": "P2bIeFmv4CMz"
   },
   "outputs": [],
   "source": [
    "#nx.write_gml(WG, '/content/gdrive/My Drive/Colab Notebooks/reddit_graphs/reddit_graph.gml')"
   ]
  },
  {
   "cell_type": "markdown",
   "metadata": {
    "id": "sPNEWWYf98E0"
   },
   "source": [
    "# Splitting into subgraphs by date"
   ]
  },
  {
   "cell_type": "code",
   "execution_count": null,
   "metadata": {
    "id": "oTEdjxGs4kwh"
   },
   "outputs": [],
   "source": [
    "# start_time = 1628640000\n",
    "# s = 86400\n",
    "# count = 0\n",
    "# for i in range(21):\n",
    "#   selected_edges = [(u,v) for u,v,e in WG.edges(data=True) if e['Date_utc'] >= (start_time+s*i) and e['Date_utc'] <= (start_time + s*(i+1))]\n",
    "#   newG = WG.edge_subgraph(selected_edges)\n",
    "#   nx.write_gml(newG, f'/content/gdrive/My Drive/Colab Notebooks/reddit_graphs/aug_{i+11}.gml')\n",
    "#   count += 1"
   ]
  },
  {
   "cell_type": "markdown",
   "metadata": {
    "id": "8K43RPG8-ODU"
   },
   "source": [
    "# Data graphing and stuff?"
   ]
  },
  {
   "cell_type": "code",
   "execution_count": 3,
   "metadata": {
    "id": "nwvPUImTrGLn"
   },
   "outputs": [],
   "source": [
    "G = nx.read_gml(\"reddit_graph_v2.gml\")"
   ]
  },
  {
   "cell_type": "code",
   "execution_count": null,
   "metadata": {
    "colab": {
     "base_uri": "https://localhost:8080/",
     "height": 323
    },
    "id": "aXhU6RPPug2A",
    "outputId": "a4ae4eaf-8293-43b8-9530-e8d7f59276f7"
   },
   "outputs": [
    {
     "data": {
      "text/plain": [
       "Text(0.5, 0, 'Degree')"
      ]
     },
     "execution_count": 48,
     "metadata": {},
     "output_type": "execute_result"
    },
    {
     "data": {
      "image/png": "[encoded data removed]",
      "text/plain": [
       "<Figure size 432x288 with 1 Axes>"
      ]
     },
     "metadata": {
      "needs_background": "light"
     },
     "output_type": "display_data"
    }
   ],
   "source": [
    "degree_sequence = [G.degree(node, weight = \"weight\") for node in G.nodes()]\n",
    "degree_sequence = np.array(degree_sequence)\n",
    "degree_list, counts = np.unique(degree_sequence, return_counts=True)\n",
    "avg_degree = np.mean(degree_sequence) \n",
    "\n",
    "fig, ax = plt.subplots()\n",
    "ax.bar(degree_list, counts, color = \"orchid\")\n",
    "ax.set_title('Degree Histogram', fontsize = 20)\n",
    "ax.set_ylabel('Number of nodes', fontsize=15)\n",
    "ax.set_xlabel(\"Degree\", fontsize=15)"
   ]
  },
  {
   "cell_type": "code",
   "execution_count": null,
   "metadata": {
    "id": "U6nBoia_vjxe"
   },
   "outputs": [],
   "source": [
    "degrees = list(dict(G.degree(weight = \"weight\")).items())\n",
    "degrees.sort(reverse = True, key = lambda x:x[1])"
   ]
  },
  {
   "cell_type": "code",
   "execution_count": null,
   "metadata": {
    "id": "iGK1tN0RyCbz"
   },
   "outputs": [],
   "source": [
    "degree_df = pd.DataFrame(degrees, columns = ['user', 'degree'])"
   ]
  },
  {
   "cell_type": "code",
   "execution_count": null,
   "metadata": {
    "colab": {
     "base_uri": "https://localhost:8080/",
     "height": 455
    },
    "id": "vNkne8M_4kTQ",
    "outputId": "2193d97b-5149-4fb7-c770-edd7eb2ad47e"
   },
   "outputs": [
    {
     "data": {
      "text/html": [
       "\n",
       "  <div id=\"df-599e8093-4439-4551-859a-3433e0d79b22\">\n",
       "    <div class=\"colab-df-container\">\n",
       "      <div>\n",
       "<style scoped>\n",
       "    .dataframe tbody tr th:only-of-type {\n",
       "        vertical-align: middle;\n",
       "    }\n",
       "\n",
       "    .dataframe tbody tr th {\n",
       "        vertical-align: top;\n",
       "    }\n",
       "\n",
       "    .dataframe thead th {\n",
       "        text-align: right;\n",
       "    }\n",
       "</style>\n",
       "<table border=\"1\" class=\"dataframe\">\n",
       "  <thead>\n",
       "    <tr style=\"text-align: right;\">\n",
       "      <th></th>\n",
       "      <th>user</th>\n",
       "    </tr>\n",
       "    <tr>\n",
       "      <th>degree</th>\n",
       "      <th></th>\n",
       "    </tr>\n",
       "  </thead>\n",
       "  <tbody>\n",
       "    <tr>\n",
       "      <th>1.0</th>\n",
       "      <td>28216</td>\n",
       "    </tr>\n",
       "    <tr>\n",
       "      <th>2.0</th>\n",
       "      <td>9944</td>\n",
       "    </tr>\n",
       "    <tr>\n",
       "      <th>3.0</th>\n",
       "      <td>5026</td>\n",
       "    </tr>\n",
       "    <tr>\n",
       "      <th>4.0</th>\n",
       "      <td>3140</td>\n",
       "    </tr>\n",
       "    <tr>\n",
       "      <th>5.0</th>\n",
       "      <td>2118</td>\n",
       "    </tr>\n",
       "    <tr>\n",
       "      <th>...</th>\n",
       "      <td>...</td>\n",
       "    </tr>\n",
       "    <tr>\n",
       "      <th>977.0</th>\n",
       "      <td>1</td>\n",
       "    </tr>\n",
       "    <tr>\n",
       "      <th>1002.0</th>\n",
       "      <td>1</td>\n",
       "    </tr>\n",
       "    <tr>\n",
       "      <th>1083.0</th>\n",
       "      <td>1</td>\n",
       "    </tr>\n",
       "    <tr>\n",
       "      <th>1084.0</th>\n",
       "      <td>1</td>\n",
       "    </tr>\n",
       "    <tr>\n",
       "      <th>2181.0</th>\n",
       "      <td>1</td>\n",
       "    </tr>\n",
       "  </tbody>\n",
       "</table>\n",
       "<p>259 rows × 1 columns</p>\n",
       "</div>\n",
       "      <button class=\"colab-df-convert\" onclick=\"convertToInteractive('df-599e8093-4439-4551-859a-3433e0d79b22')\"\n",
       "              title=\"Convert this dataframe to an interactive table.\"\n",
       "              style=\"display:none;\">\n",
       "        \n",
       "  <svg xmlns=\"http://www.w3.org/2000/svg\" height=\"24px\"viewBox=\"0 0 24 24\"\n",
       "       width=\"24px\">\n",
       "    <path d=\"M0 0h24v24H0V0z\" fill=\"none\"/>\n",
       "    <path d=\"M18.56 5.44l.94 2.06.94-2.06 2.06-.94-2.06-.94-.94-2.06-.94 2.06-2.06.94zm-11 1L8.5 8.5l.94-2.06 2.06-.94-2.06-.94L8.5 2.5l-.94 2.06-2.06.94zm10 10l.94 2.06.94-2.06 2.06-.94-2.06-.94-.94-2.06-.94 2.06-2.06.94z\"/><path d=\"M17.41 7.96l-1.37-1.37c-.4-.4-.92-.59-1.43-.59-.52 0-1.04.2-1.43.59L10.3 9.45l-7.72 7.72c-.78.78-.78 2.05 0 2.83L4 21.41c.39.39.9.59 1.41.59.51 0 1.02-.2 1.41-.59l7.78-7.78 2.81-2.81c.8-.78.8-2.07 0-2.86zM5.41 20L4 18.59l7.72-7.72 1.47 1.35L5.41 20z\"/>\n",
       "  </svg>\n",
       "      </button>\n",
       "      \n",
       "  <style>\n",
       "    .colab-df-container {\n",
       "      display:flex;\n",
       "      flex-wrap:wrap;\n",
       "      gap: 12px;\n",
       "    }\n",
       "\n",
       "    .colab-df-convert {\n",
       "      background-color: #E8F0FE;\n",
       "      border: none;\n",
       "      border-radius: 50%;\n",
       "      cursor: pointer;\n",
       "      display: none;\n",
       "      fill: #1967D2;\n",
       "      height: 32px;\n",
       "      padding: 0 0 0 0;\n",
       "      width: 32px;\n",
       "    }\n",
       "\n",
       "    .colab-df-convert:hover {\n",
       "      background-color: #E2EBFA;\n",
       "      box-shadow: 0px 1px 2px rgba(60, 64, 67, 0.3), 0px 1px 3px 1px rgba(60, 64, 67, 0.15);\n",
       "      fill: #174EA6;\n",
       "    }\n",
       "\n",
       "    [theme=dark] .colab-df-convert {\n",
       "      background-color: #3B4455;\n",
       "      fill: #D2E3FC;\n",
       "    }\n",
       "\n",
       "    [theme=dark] .colab-df-convert:hover {\n",
       "      background-color: #434B5C;\n",
       "      box-shadow: 0px 1px 3px 1px rgba(0, 0, 0, 0.15);\n",
       "      filter: drop-shadow(0px 1px 2px rgba(0, 0, 0, 0.3));\n",
       "      fill: #FFFFFF;\n",
       "    }\n",
       "  </style>\n",
       "\n",
       "      <script>\n",
       "        const buttonEl =\n",
       "          document.querySelector('#df-599e8093-4439-4551-859a-3433e0d79b22 button.colab-df-convert');\n",
       "        buttonEl.style.display =\n",
       "          google.colab.kernel.accessAllowed ? 'block' : 'none';\n",
       "\n",
       "        async function convertToInteractive(key) {\n",
       "          const element = document.querySelector('#df-599e8093-4439-4551-859a-3433e0d79b22');\n",
       "          const dataTable =\n",
       "            await google.colab.kernel.invokeFunction('convertToInteractive',\n",
       "                                                     [key], {});\n",
       "          if (!dataTable) return;\n",
       "\n",
       "          const docLinkHtml = 'Like what you see? Visit the ' +\n",
       "            '<a target=\"_blank\" href=https://colab.research.google.com/notebooks/data_table.ipynb>data table notebook</a>'\n",
       "            + ' to learn more about interactive tables.';\n",
       "          element.innerHTML = '';\n",
       "          dataTable['output_type'] = 'display_data';\n",
       "          await google.colab.output.renderOutput(dataTable, element);\n",
       "          const docLink = document.createElement('div');\n",
       "          docLink.innerHTML = docLinkHtml;\n",
       "          element.appendChild(docLink);\n",
       "        }\n",
       "      </script>\n",
       "    </div>\n",
       "  </div>\n",
       "  "
      ],
      "text/plain": [
       "         user\n",
       "degree       \n",
       "1.0     28216\n",
       "2.0      9944\n",
       "3.0      5026\n",
       "4.0      3140\n",
       "5.0      2118\n",
       "...       ...\n",
       "977.0       1\n",
       "1002.0      1\n",
       "1083.0      1\n",
       "1084.0      1\n",
       "2181.0      1\n",
       "\n",
       "[259 rows x 1 columns]"
      ]
     },
     "execution_count": 64,
     "metadata": {},
     "output_type": "execute_result"
    }
   ],
   "source": [
    "degree_df.groupby('degree').count()"
   ]
  },
  {
   "cell_type": "code",
   "execution_count": null,
   "metadata": {
    "id": "p_xbdJ-Q5hMt"
   },
   "outputs": [],
   "source": [
    "component = max(nx.connected_components(G), key = len)\n",
    "largest_C = G.subgraph(component)"
   ]
  },
  {
   "cell_type": "code",
   "execution_count": null,
   "metadata": {
    "colab": {
     "base_uri": "https://localhost:8080/"
    },
    "id": "eKuVJHRpAjSF",
    "outputId": "d86ca028-1190-4a1e-b0cc-9c097a7eb764"
   },
   "outputs": [
    {
     "data": {
      "text/plain": [
       "57902"
      ]
     },
     "execution_count": 66,
     "metadata": {},
     "output_type": "execute_result"
    }
   ],
   "source": [
    "largest_C.number_of_nodes()"
   ]
  },
  {
   "cell_type": "code",
   "execution_count": null,
   "metadata": {
    "colab": {
     "base_uri": "https://localhost:8080/"
    },
    "id": "KCYWu6i6AlaJ",
    "outputId": "7543ac92-96c4-47a4-cff2-147332904418"
   },
   "outputs": [
    {
     "data": {
      "text/plain": [
       "58476"
      ]
     },
     "execution_count": 67,
     "metadata": {},
     "output_type": "execute_result"
    }
   ],
   "source": [
    "G.number_of_nodes()"
   ]
  },
  {
   "cell_type": "code",
   "execution_count": null,
   "metadata": {
    "id": "B5HiKrhpAnS2"
   },
   "outputs": [],
   "source": [
    "#nx.write_gml(largest_C, r'/content/gdrive/MyDrive/reddit_graphs (1)/reddit_vis.gml')"
   ]
  },
  {
   "cell_type": "markdown",
   "metadata": {
    "id": "Ltb4UVFurQzd"
   },
   "source": [
    "# splitting into communities"
   ]
  },
  {
   "cell_type": "code",
   "execution_count": 116,
   "metadata": {
    "id": "A3qUGIw2r_B8"
   },
   "outputs": [],
   "source": [
    "# remove really small connected components\n",
    "for component in list(nx.connected_components(G)):\n",
    "    if len(component)<7:\n",
    "        for node in component:\n",
    "            G.remove_node(node)"
   ]
  },
  {
   "cell_type": "code",
   "execution_count": 12,
   "metadata": {},
   "outputs": [
    {
     "data": {
      "text/plain": [
       "0.6689937584985899"
      ]
     },
     "execution_count": 12,
     "metadata": {},
     "output_type": "execute_result"
    }
   ],
   "source": [
    "mod = nx.algorithms.community.modularity(G, comms)\n",
    "mod"
   ]
  },
  {
   "cell_type": "markdown",
   "metadata": {},
   "source": [
    "## diy communities"
   ]
  },
  {
   "cell_type": "code",
   "execution_count": 101,
   "metadata": {},
   "outputs": [],
   "source": [
    "def get_modularity(G):\n",
    "    top_sub = {}\n",
    "    for node in G.nodes:\n",
    "        subs = {}\n",
    "        for source, target in list(G.edges(node)):\n",
    "            subreddit = G[source][target][\"Subreddit\"]\n",
    "            subs[subreddit] = subs.get(subreddit, 0) + G[source][target][\"weight\"]\n",
    "        top_sub[node] = max(subs, key=subs.get)\n",
    "\n",
    "    #nx.set_node_attributes(G, top_sub, \"Top_Sub\")\n",
    "\n",
    "    diy_comms_dict = {'trueantivaccination':set(),\n",
    "                     'vaccines': set(),\n",
    "                     'covidvaccine':set(),\n",
    "                     'covidvaccinated':set(),\n",
    "                     'antivaxxers':set(),\n",
    "                     'conspiracy':set(),\n",
    "                     'conspiracytheories':set(),\n",
    "                     'conspiracy_commons':set(),\n",
    "                     'covid19':set(),\n",
    "                     'coronavirus':set(),\n",
    "                     'conservative':set(),\n",
    "                     'news':set()}\n",
    "\n",
    "    for user, sub in top_sub.items():\n",
    "        diy_comms_dict[sub].add(user)\n",
    "\n",
    "    diy_comms = list(diy_comms_dict.values())\n",
    "    louvain = nx.community.louvain_communities(G, resolution = 1)\n",
    "    \n",
    "    return (nx.algorithms.community.modularity(G, diy_comms), nx.algorithms.community.modularity(G, louvain))"
   ]
  },
  {
   "cell_type": "code",
   "execution_count": 102,
   "metadata": {},
   "outputs": [],
   "source": [
    "daily_mod = []\n",
    "start_time = 1628640000\n",
    "s = 86400\n",
    "count = 0\n",
    "for i in range(21):\n",
    "    selected_edges = [(u,v) for u,v,e in G.edges(data=True) if e['Date_utc'] >= (start_time+s*i) and e['Date_utc'] <= (start_time + s*(i+1))]\n",
    "    newG = G.edge_subgraph(selected_edges) \n",
    "    daily_mod.append(get_modularity(newG))"
   ]
  },
  {
   "cell_type": "code",
   "execution_count": 103,
   "metadata": {},
   "outputs": [],
   "source": [
    "days = np.arange(11,32)\n",
    "diy_mod, louvain_mod = list(zip(*daily_mod))"
   ]
  },
  {
   "cell_type": "code",
   "execution_count": 110,
   "metadata": {},
   "outputs": [
    {
     "data": {
      "text/plain": [
       "(0.6, 1.0)"
      ]
     },
     "execution_count": 110,
     "metadata": {},
     "output_type": "execute_result"
    },
    {
     "data": {
      "image/png": "[encoded data removed]",
      "text/plain": [
       "<Figure size 432x288 with 1 Axes>"
      ]
     },
     "metadata": {
      "needs_background": "light"
     },
     "output_type": "display_data"
    }
   ],
   "source": [
    "fig, ax = plt.subplots(1)\n",
    "\n",
    "ax.plot(days, diy_mod)\n",
    "ax.plot(days, louvain_mod, color = \"orchid\")\n",
    "ax.set_xlim([11,31])\n",
    "ax.set_xticks(days)\n",
    "ax.set_ylim([0.6, 1])"
   ]
  },
  {
   "cell_type": "markdown",
   "metadata": {},
   "source": [
    "# Rand Index"
   ]
  },
  {
   "cell_type": "code",
   "execution_count": 4,
   "metadata": {},
   "outputs": [],
   "source": [
    "G_nx = nx.read_gml(\"reddit_graph_v2.gml\")"
   ]
  },
  {
   "cell_type": "code",
   "execution_count": 49,
   "metadata": {},
   "outputs": [
    {
     "name": "stdout",
     "output_type": "stream",
     "text": [
      "Collecting igraph\n",
      "  Downloading igraph-0.9.10-cp39-cp39-win_amd64.whl (2.8 MB)\n",
      "Collecting texttable>=1.6.2\n",
      "  Downloading texttable-1.6.4-py2.py3-none-any.whl (10 kB)\n",
      "Installing collected packages: texttable, igraph\n",
      "Successfully installed igraph-0.9.10 texttable-1.6.4\n",
      "Note: you may need to restart the kernel to use updated packages.\n"
     ]
    }
   ],
   "source": [
    "%pip install igraph\n",
    "import igraph\n",
    "Gi = igraph.Graph.Read_GML(\"reddit_graph_v2.gml\")"
   ]
  },
  {
   "cell_type": "code",
   "execution_count": 61,
   "metadata": {},
   "outputs": [
    {
     "name": "stdout",
     "output_type": "stream",
     "text": [
      "Modularity:  0.6578766122798827\n"
     ]
    }
   ],
   "source": [
    "v_diy = igraph.clustering.VertexClustering.FromAttribute(Gi, \"Top_Sub\")\n",
    "g_truth = v_diy.membership\n",
    "print(\"Modularity: \", v_diy.modularity)"
   ]
  },
  {
   "cell_type": "code",
   "execution_count": 58,
   "metadata": {},
   "outputs": [
    {
     "name": "stdout",
     "output_type": "stream",
     "text": [
      "Rand Index: 0.9271846717347565\n",
      "Modularity: 0.6688153818823893\n"
     ]
    }
   ],
   "source": [
    "v_leiden = Gi.community_leiden(objective_function = \"modularity\", weights =\"weight\", n_iterations = -1)\n",
    "leiden = v_leiden.membership\n",
    "\n",
    "print(\"Rand Index:\", metrics.rand_score(labels_true = g_truth, labels_pred=leiden))\n",
    "print(\"Modularity:\", v.modularity)"
   ]
  },
  {
   "cell_type": "code",
   "execution_count": 62,
   "metadata": {},
   "outputs": [
    {
     "name": "stdout",
     "output_type": "stream",
     "text": [
      "Rand Index: 0.9218457243835322\n",
      "Modularity: 0.6688631013405265\n"
     ]
    }
   ],
   "source": [
    "v_louvain = Gi.community_multilevel(weights =\"weight\")\n",
    "louvain = v_louvain.membership\n",
    "print(\"Rand Index:\", metrics.rand_score(labels_true = g_truth, labels_pred=louvain))\n",
    "print(\"Modularity:\",v_louvain.modularity)"
   ]
  },
  {
   "cell_type": "code",
   "execution_count": 66,
   "metadata": {},
   "outputs": [
    {
     "name": "stdout",
     "output_type": "stream",
     "text": [
      "Rand Index: 0.949398156263143\n",
      "Modularity: 0.6690066785530212\n"
     ]
    }
   ],
   "source": [
    "v_cnm = Gi.community_fastgreedy(weights = \"weight\").as_clustering(n = 12)\n",
    "cnm = v_cnm.membership\n",
    "print(\"Rand Index:\", metrics.rand_score(labels_true = g_truth, labels_pred=cnm))\n",
    "print(\"Modularity:\", v_cnm.modularity)"
   ]
  },
  {
   "cell_type": "code",
   "execution_count": null,
   "metadata": {},
   "outputs": [],
   "source": []
  }
 ],
 "metadata": {
  "colab": {
   "name": "reddit_graphs.ipynb",
   "provenance": []
  },
  "kernelspec": {
   "display_name": "Python 3 (ipykernel)",
   "language": "python",
   "name": "python3"
  },
  "language_info": {
   "codemirror_mode": {
    "name": "ipython",
    "version": 3
   },
   "file_extension": ".py",
   "mimetype": "text/x-python",
   "name": "python",
   "nbconvert_exporter": "python",
   "pygments_lexer": "ipython3",
   "version": "3.9.12"
  }
 },
 "nbformat": 4,
 "nbformat_minor": 1
}
